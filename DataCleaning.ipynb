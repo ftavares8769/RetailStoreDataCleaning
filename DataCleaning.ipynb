{
 "cells": [
  {
   "cell_type": "code",
   "execution_count": null,
   "id": "b3c4273e",
   "metadata": {},
   "outputs": [
    {
     "name": "stdout",
     "output_type": "stream",
     "text": [
      "C:\\Users\\Francisco\\.cache\\kagglehub\\datasets\\ahmedmohamed2003\\retail-store-sales-dirty-for-data-cleaning\\versions\\1\n",
      "  Transaction ID Customer ID       Category          Item  Price Per Unit  \\\n",
      "0    TXN_6867343     CUST_09     Patisserie   Item_10_PAT            18.5   \n",
      "1    TXN_3731986     CUST_22  Milk Products  Item_17_MILK            29.0   \n",
      "2    TXN_9303719     CUST_02       Butchers   Item_12_BUT            21.5   \n",
      "3    TXN_9458126     CUST_06      Beverages   Item_16_BEV            27.5   \n",
      "4    TXN_4575373     CUST_05           Food   Item_6_FOOD            12.5   \n",
      "\n",
      "   Quantity  Total Spent  Payment Method Location Transaction Date  \\\n",
      "0      10.0        185.0  Digital Wallet   Online       2024-04-08   \n",
      "1       9.0        261.0  Digital Wallet   Online       2023-07-23   \n",
      "2       2.0         43.0     Credit Card   Online       2022-10-05   \n",
      "3       9.0        247.5     Credit Card   Online       2022-05-07   \n",
      "4       7.0         87.5  Digital Wallet   Online       2022-10-02   \n",
      "\n",
      "  Discount Applied  \n",
      "0             True  \n",
      "1             True  \n",
      "2            False  \n",
      "3              NaN  \n",
      "4            False  \n",
      "<class 'pandas.core.frame.DataFrame'>\n",
      "RangeIndex: 12575 entries, 0 to 12574\n",
      "Data columns (total 11 columns):\n",
      " #   Column            Non-Null Count  Dtype  \n",
      "---  ------            --------------  -----  \n",
      " 0   Transaction ID    12575 non-null  object \n",
      " 1   Customer ID       12575 non-null  object \n",
      " 2   Category          12575 non-null  object \n",
      " 3   Item              11362 non-null  object \n",
      " 4   Price Per Unit    11966 non-null  float64\n",
      " 5   Quantity          11971 non-null  float64\n",
      " 6   Total Spent       11971 non-null  float64\n",
      " 7   Payment Method    12575 non-null  object \n",
      " 8   Location          12575 non-null  object \n",
      " 9   Transaction Date  12575 non-null  object \n",
      " 10  Discount Applied  8376 non-null   object \n",
      "dtypes: float64(3), object(8)\n",
      "memory usage: 1.1+ MB\n",
      "None\n",
      "Transaction ID         0\n",
      "Customer ID            0\n",
      "Category               0\n",
      "Item                1213\n",
      "Price Per Unit       609\n",
      "Quantity             604\n",
      "Total Spent          604\n",
      "Payment Method         0\n",
      "Location               0\n",
      "Transaction Date       0\n",
      "Discount Applied    4199\n",
      "dtype: int64\n"
     ]
    }
   ],
   "source": [
    "import kagglehub\n",
    "import pandas as pd\n",
    "import numpy as np\n",
    "import os\n",
    "\n",
    "# Download latest version\n",
    "path = kagglehub.dataset_download(\"ahmedmohamed2003/retail-store-sales-dirty-for-data-cleaning\")\n",
    "file_path = os.path.join(path,\"retail_store_sales.csv\")\n",
    "df_raw = pd.read_csv(file_path)\n",
    "\n",
    "print(df_raw.head())\n",
    "print(df_raw.info())\n",
    "print(df_raw.isna().sum())"
   ]
  },
  {
   "cell_type": "code",
   "execution_count": 161,
   "id": "81ec8ea5",
   "metadata": {},
   "outputs": [
    {
     "name": "stdout",
     "output_type": "stream",
     "text": [
      "Location          In-store    Online\n",
      "Transaction ID         NaN       NaN\n",
      "Customer ID            NaN       NaN\n",
      "Category               NaN       NaN\n",
      "Item              0.497939  0.502061\n",
      "Price Per Unit    0.469622  0.530378\n",
      "Quantity          0.526490  0.473510\n",
      "Total Spent       0.526490  0.473510\n",
      "Payment Method         NaN       NaN\n",
      "Location               NaN       NaN\n",
      "Transaction Date       NaN       NaN\n",
      "Discount Applied  0.499166  0.500834 \n",
      "\n",
      "Transaction ID      0.000000\n",
      "Customer ID         0.000000\n",
      "Category            0.000000\n",
      "Item                0.096461\n",
      "Price Per Unit      0.048429\n",
      "Quantity            0.048032\n",
      "Total Spent         0.048032\n",
      "Payment Method      0.000000\n",
      "Location            0.000000\n",
      "Transaction Date    0.000000\n",
      "Discount Applied    0.333917\n",
      "dtype: float64\n",
      "\n",
      " False\n",
      "False\n"
     ]
    },
    {
     "name": "stderr",
     "output_type": "stream",
     "text": [
      "C:\\Users\\Francisco\\AppData\\Local\\Temp\\ipykernel_29236\\4205404454.py:11: DeprecationWarning: DataFrameGroupBy.apply operated on the grouping columns. This behavior is deprecated, and in a future version of pandas the grouping columns will be excluded from the operation. Either pass `include_groups=False` to exclude the groupings or explicitly select the grouping columns after groupby to silence this warning.\n",
      "  nan_ratio_location = df_raw.groupby(\"Location\").apply(lambda x: x.isna().sum() / df_raw.isna().sum())\n"
     ]
    }
   ],
   "source": [
    "#Quantity dtype to int\n",
    "#Check transaction date dtype\n",
    "#Check discount applied if boolean\n",
    "#Clean data: calculate percentage of item, price per unit, quantity, total spent, and discount applied to drop or impute\n",
    "\n",
    "#Updating datatypes\n",
    "df_raw['Quantity'] = df_raw['Quantity'].astype('Int64')\n",
    "df_raw['Transaction Date'] = pd.to_datetime(df_raw['Transaction Date'])\n",
    "\n",
    "#Checking NaN Ratio: if NaNs differ significantly, it may be better to split dataset between locations.\n",
    "nan_ratio_location = df_raw.groupby(\"Location\").apply(lambda x: x.isna().sum() / df_raw.isna().sum())\n",
    "print(nan_ratio_location.T, \"\\n\")\n",
    "\n",
    "#Checking Pct Missing (drop or not)\n",
    "pct_missing = df_raw.apply(\n",
    "                 lambda x: x.isna().sum() / len(x)\n",
    ")\n",
    "print(pct_missing)\n",
    "\n",
    "#Item column is important, so we'll impute with Unknown_Item\n",
    "df_raw['Item'] = df_raw['Item'].fillna(\"Unknown_Item\")\n",
    "\n",
    "#Checking if transactions with more than 1 item exist\n",
    "print(\"\\n\", df_raw.groupby(\"Transaction ID\")['Item'].count() is True)\n",
    "#Items aren't duplicated\n",
    "print(df_raw[\"Item\"].duplicated().nunique() > len(df_raw[\"Item\"]))"
   ]
  },
  {
   "cell_type": "code",
   "execution_count": 162,
   "id": "8f11c8f8",
   "metadata": {},
   "outputs": [],
   "source": [
    "#Fill Price Per Unit Randomly Grouped by Category\n",
    "df_raw['Price Per Unit'] = df_raw.groupby(\"Category\")['Price Per Unit'].transform(\n",
    "                           lambda x: x.fillna(pd.Series(np.random.choice(x.dropna().to_numpy(), \n",
    "                                            size=int(x.isna().sum()), \n",
    "                                            replace=True),\n",
    "                                            index=x.index[x.isna()]\n",
    "    ))\n",
    ")\n",
    "\n",
    "#Fill Quantity Randomly Grouped by Category\n",
    "df_raw['Quantity'] = df_raw.groupby(\"Category\")['Quantity'].transform(\n",
    "                           lambda x: x.fillna(pd.Series(np.random.choice(x.dropna().to_numpy(), \n",
    "                                            size=int(x.isna().sum()), \n",
    "                                            replace=True),\n",
    "                                            index=x.index[x.isna()]\n",
    "    ))\n",
    ")"
   ]
  },
  {
   "cell_type": "code",
   "execution_count": 163,
   "id": "d34bee12",
   "metadata": {},
   "outputs": [
    {
     "data": {
      "text/plain": [
       "False"
      ]
     },
     "execution_count": 163,
     "metadata": {},
     "output_type": "execute_result"
    }
   ],
   "source": [
    "#Estimated Total Spent\n",
    "df_raw['Estimated Total Spent'] = df_raw['Price Per Unit'] * df_raw['Quantity'].round(2)\n",
    "#Can I use total difference to infer price? What if discount is baked into price? if False, then I can\n",
    "df_raw.loc[df_raw['Discount Applied'] == True, 'Total Spent'].equals(\n",
    "    df_raw.loc[df_raw['Discount Applied'] == True, 'Estimated Total Spent']\n",
    ")"
   ]
  },
  {
   "cell_type": "code",
   "execution_count": 164,
   "id": "89324088",
   "metadata": {},
   "outputs": [],
   "source": [
    "#Filling NA on Discount\n",
    "discount_mask = df_raw['Discount Applied'].isna() & df_raw['Total Spent'].notna()\n",
    "df_raw.loc[discount_mask,'Discount Applied'] = (df_raw.loc[discount_mask, 'Total Spent'] < df_raw.loc[discount_mask, 'Estimated Total Spent'])\n",
    "\n",
    "#Fill Total Spent\n",
    "total_mask = df_raw['Total Spent'].isna()\n",
    "df_raw.loc[total_mask,'Total Spent'] = (df_raw.loc[total_mask, 'Price Per Unit'] * df_raw.loc[total_mask, 'Quantity']).round(2)"
   ]
  },
  {
   "cell_type": "code",
   "execution_count": 171,
   "id": "23b3fb3a",
   "metadata": {},
   "outputs": [
    {
     "name": "stdout",
     "output_type": "stream",
     "text": [
      "Drop share overall: 0.016779324055666005\n",
      "Location\n",
      "Online      0.014951\n",
      "In-store    0.018647\n",
      "Name: Discount Applied, dtype: float64\n",
      "Category\n",
      "Milk Products                         0.011995\n",
      "Beverages                             0.014678\n",
      "Butchers                              0.015306\n",
      "Computers and electric accessories    0.015404\n",
      "Electric household essentials         0.015713\n",
      "Furniture                             0.017599\n",
      "Food                                  0.020781\n",
      "Patisserie                            0.022906\n",
      "Name: Discount Applied, dtype: float64\n",
      "Dropped 211 rows (1.68%)\n",
      "Transaction ID           0\n",
      "Customer ID              0\n",
      "Category                 0\n",
      "Item                     0\n",
      "Price Per Unit           0\n",
      "Quantity                 0\n",
      "Total Spent              0\n",
      "Payment Method           0\n",
      "Location                 0\n",
      "Transaction Date         0\n",
      "Discount Applied         0\n",
      "Estimated Total Spent    0\n",
      "dtype: int64\n"
     ]
    }
   ],
   "source": [
    "#Check if drop < 5%\n",
    "null_discount = df_raw['Discount Applied'].isna()\n",
    "print(\"Drop share overall:\", null_discount.mean())\n",
    "\n",
    "#Check if ratio by category or location is close to avoid bias\n",
    "print(null_discount.groupby(df_raw['Location']).mean().sort_values())\n",
    "print(null_discount.groupby(df_raw['Category']).mean().sort_values())\n",
    "\n",
    "#Drop NaNs\n",
    "n_drop = df_raw['Discount Applied'].isna().sum()\n",
    "df_clean = df_raw.dropna(subset=['Discount Applied']).copy()\n",
    "print(f\"Dropped {n_drop} rows ({n_drop/len(df_raw):.2%})\")\n",
    "\n",
    "print(df_clean.isna().sum())\n",
    "df_clean.to_csv(\"cleaned_retail_store_sales.csv\")\n"
   ]
  },
  {
   "cell_type": "code",
   "execution_count": null,
   "id": "bbc108a2",
   "metadata": {},
   "outputs": [],
   "source": [
    "\n"
   ]
  }
 ],
 "metadata": {
  "kernelspec": {
   "display_name": "Python 3",
   "language": "python",
   "name": "python3"
  },
  "language_info": {
   "codemirror_mode": {
    "name": "ipython",
    "version": 3
   },
   "file_extension": ".py",
   "mimetype": "text/x-python",
   "name": "python",
   "nbconvert_exporter": "python",
   "pygments_lexer": "ipython3",
   "version": "3.10.11"
  }
 },
 "nbformat": 4,
 "nbformat_minor": 5
}
